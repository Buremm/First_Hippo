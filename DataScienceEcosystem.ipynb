{
 "cells": [
  {
   "cell_type": "markdown",
   "id": "4cec01b0-40a2-42ef-a9a7-5390b2413b7d",
   "metadata": {},
   "source": [
    "# Data Science Tools and Ecosystem"
   ]
  },
  {
   "cell_type": "markdown",
   "id": "cc53875d-bf33-43c3-8b1b-46dc7b76ca63",
   "metadata": {},
   "source": [
    "## In this notebook, Data Science Tools and Ecosystem are summarized"
   ]
  },
  {
   "cell_type": "markdown",
   "id": "08489175-f1a2-4879-9a39-9df1235505eb",
   "metadata": {},
   "source": [
    "## *Objectives:*\n",
    " - Popular languages\n",
    " - Common librairies\n",
    " - Common tools used\n",
    " - Arithmetics examples"
   ]
  },
  {
   "cell_type": "markdown",
   "id": "22d8060e-34ff-46e7-8ead-baf325a7f0f8",
   "metadata": {},
   "source": [
    "### Some of the popular languages that Data Scientists use are:\n",
    "1. Python\n",
    "2. R\n",
    "3. SQL\n",
    "4. Julia"
   ]
  },
  {
   "cell_type": "markdown",
   "id": "8f3a374e-2d95-466a-8e24-25aec27f0422",
   "metadata": {},
   "source": [
    "### Some of the commonly used libraries used by Data Scientists include:\n",
    "1. NumPy\n",
    "2. Pandas\n",
    "3. Seaborn\n",
    "4. Matplotlib\n",
    "5. TensorFLow"
   ]
  },
  {
   "cell_type": "markdown",
   "id": "c9a81665-fae5-4326-ae2b-7bf38fc192fd",
   "metadata": {},
   "source": [
    "|*Data Science Tools*|\n",
    "|---------------|\n",
    "|Jupiter Notebooks|\n",
    "|Git Hub|\n",
    "|R Studio|\n",
    "|Anaconda|"
   ]
  },
  {
   "cell_type": "markdown",
   "id": "90710eb2-96d3-4a9d-9b3b-58b4d225928c",
   "metadata": {},
   "source": [
    "### Below are a few examples of evaluating arithmetic expressions in Python"
   ]
  },
  {
   "cell_type": "markdown",
   "id": "3a30bc8f-2a49-4254-95d4-cf5c020e4686",
   "metadata": {},
   "source": [
    "#### This is a simple arithmetic expression to multiply and add integers"
   ]
  },
  {
   "cell_type": "code",
   "execution_count": 5,
   "id": "7a5d8bff-a871-4243-bacf-de83def61a43",
   "metadata": {},
   "outputs": [
    {
     "data": {
      "text/plain": [
       "17"
      ]
     },
     "execution_count": 5,
     "metadata": {},
     "output_type": "execute_result"
    }
   ],
   "source": [
    "(3*4)+5"
   ]
  },
  {
   "cell_type": "markdown",
   "id": "c1df9ce9-8ace-4328-82fd-48e1bd3728a3",
   "metadata": {},
   "source": [
    "#### This will convert 200 minutes to hours by dividing by 60"
   ]
  },
  {
   "cell_type": "code",
   "execution_count": 6,
   "id": "6a2b7079-6aa4-4757-aff1-474ad283905e",
   "metadata": {},
   "outputs": [
    {
     "data": {
      "text/plain": [
       "3.3333333333333335"
      ]
     },
     "execution_count": 6,
     "metadata": {},
     "output_type": "execute_result"
    }
   ],
   "source": [
    "200/60"
   ]
  },
  {
   "cell_type": "markdown",
   "id": "fa5d79c0-88e1-44b7-81f8-5288ddaa5f5f",
   "metadata": {},
   "source": [
    "## Author:\n",
    "Buremm"
   ]
  },
  {
   "cell_type": "code",
   "execution_count": null,
   "id": "efbc47aa-fa16-4927-b703-e2bd93e1107e",
   "metadata": {},
   "outputs": [],
   "source": []
  }
 ],
 "metadata": {
  "kernelspec": {
   "display_name": "Python 3 (ipykernel)",
   "language": "python",
   "name": "python3"
  },
  "language_info": {
   "codemirror_mode": {
    "name": "ipython",
    "version": 3
   },
   "file_extension": ".py",
   "mimetype": "text/x-python",
   "name": "python",
   "nbconvert_exporter": "python",
   "pygments_lexer": "ipython3",
   "version": "3.12.8"
  }
 },
 "nbformat": 4,
 "nbformat_minor": 5
}
